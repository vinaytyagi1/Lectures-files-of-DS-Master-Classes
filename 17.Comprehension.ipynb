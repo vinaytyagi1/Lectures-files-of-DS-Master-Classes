{
 "cells": [
  {
   "cell_type": "code",
   "execution_count": 5,
   "id": "8092729c",
   "metadata": {},
   "outputs": [
    {
     "data": {
      "text/plain": [
       "[1, 4, 9, 16, 2025, 25]"
      ]
     },
     "execution_count": 5,
     "metadata": {},
     "output_type": "execute_result"
    }
   ],
   "source": [
    "l = [1,2,3,4,45,5]\n",
    "l1 = []\n",
    "for i in l :\n",
    "    l1.append(i**2)\n",
    "l1"
   ]
  },
  {
   "cell_type": "markdown",
   "id": "5b6fd214",
   "metadata": {},
   "source": [
    "instead of above code we can also use comprehension as shown below"
   ]
  },
  {
   "cell_type": "code",
   "execution_count": 6,
   "id": "dc02b810",
   "metadata": {},
   "outputs": [
    {
     "data": {
      "text/plain": [
       "[1, 4, 9, 16, 2025, 25]"
      ]
     },
     "execution_count": 6,
     "metadata": {},
     "output_type": "execute_result"
    }
   ],
   "source": [
    "[i**2 for i in l]"
   ]
  },
  {
   "cell_type": "markdown",
   "id": "b87e5415",
   "metadata": {},
   "source": [
    "q. find only even no. in list"
   ]
  },
  {
   "cell_type": "code",
   "execution_count": 7,
   "id": "7ebcbc2a",
   "metadata": {},
   "outputs": [],
   "source": [
    "for i in l:\n",
    "    if i/2==0:\n",
    "        print(i)\n",
    "    "
   ]
  },
  {
   "cell_type": "markdown",
   "id": "ae00b45f",
   "metadata": {},
   "source": [
    "q. take out only even numbers from list"
   ]
  },
  {
   "cell_type": "code",
   "execution_count": 8,
   "id": "87bb78f4",
   "metadata": {},
   "outputs": [
    {
     "data": {
      "text/plain": [
       "[2, 4]"
      ]
     },
     "execution_count": 8,
     "metadata": {},
     "output_type": "execute_result"
    }
   ],
   "source": [
    "[i for i in l if i%2 == 0]"
   ]
  },
  {
   "cell_type": "markdown",
   "id": "44ea9bb7",
   "metadata": {},
   "source": [
    "here comprehension starts from i, there is no colon after for loop"
   ]
  },
  {
   "cell_type": "code",
   "execution_count": 9,
   "id": "d010b223",
   "metadata": {},
   "outputs": [],
   "source": [
    "l1 = [\"sudh\" , \"pwskills\" , \"kumar\" , \"data science masters\"]"
   ]
  },
  {
   "cell_type": "markdown",
   "id": "0b36c722",
   "metadata": {},
   "source": [
    "q.convert all in uppercase.outcome should be in list"
   ]
  },
  {
   "cell_type": "code",
   "execution_count": 11,
   "id": "71c310fe",
   "metadata": {},
   "outputs": [
    {
     "data": {
      "text/plain": [
       "['SUDH', 'PWSKILLS', 'KUMAR', 'DATA SCIENCE MASTERS']"
      ]
     },
     "execution_count": 11,
     "metadata": {},
     "output_type": "execute_result"
    }
   ],
   "source": [
    "[i.upper() for i in l1]"
   ]
  },
  {
   "cell_type": "markdown",
   "id": "3b1aa1a4",
   "metadata": {},
   "source": [
    "here we have put square bracket because we need list as outcome."
   ]
  },
  {
   "cell_type": "markdown",
   "id": "4b302414",
   "metadata": {},
   "source": [
    "q. now do tuple comprehension"
   ]
  },
  {
   "cell_type": "code",
   "execution_count": 14,
   "id": "f3377792",
   "metadata": {},
   "outputs": [
    {
     "data": {
      "text/plain": [
       "<generator object <genexpr> at 0x000001E237EA3200>"
      ]
     },
     "execution_count": 14,
     "metadata": {},
     "output_type": "execute_result"
    }
   ],
   "source": [
    "(i**2 for i in l)"
   ]
  },
  {
   "cell_type": "markdown",
   "id": "feb1f416",
   "metadata": {},
   "source": [
    "generator object create ho gaya"
   ]
  },
  {
   "cell_type": "code",
   "execution_count": 15,
   "id": "6f79380b",
   "metadata": {},
   "outputs": [
    {
     "data": {
      "text/plain": [
       "[1, 4, 9, 16, 2025, 25]"
      ]
     },
     "execution_count": 15,
     "metadata": {},
     "output_type": "execute_result"
    }
   ],
   "source": [
    "list(i**2 for i in l)"
   ]
  },
  {
   "cell_type": "markdown",
   "id": "9b2b0184",
   "metadata": {},
   "source": [
    "here we have created data in tuple but to view it we have used list function"
   ]
  },
  {
   "cell_type": "markdown",
   "id": "c30559e0",
   "metadata": {},
   "source": [
    "q. now do dictionary comprehension"
   ]
  },
  {
   "cell_type": "code",
   "execution_count": 16,
   "id": "5a6324f9",
   "metadata": {},
   "outputs": [],
   "source": [
    "d = {\"key1\" :1 , \"key2\" :2 , \"key3\":3 ,\"key4\" :4}"
   ]
  },
  {
   "cell_type": "code",
   "execution_count": 21,
   "id": "7e0c1eba",
   "metadata": {},
   "outputs": [
    {
     "data": {
      "text/plain": [
       "dict_items([('key1', 1), ('key2', 2), ('key3', 3), ('key4', 4)])"
      ]
     },
     "execution_count": 21,
     "metadata": {},
     "output_type": "execute_result"
    }
   ],
   "source": [
    "d.items()"
   ]
  },
  {
   "cell_type": "markdown",
   "id": "137dadb5",
   "metadata": {},
   "source": [
    "q. square all the values"
   ]
  },
  {
   "cell_type": "code",
   "execution_count": 20,
   "id": "afa643b5",
   "metadata": {},
   "outputs": [
    {
     "data": {
      "text/plain": [
       "{'key1': 1, 'key2': 4, 'key3': 9, 'key4': 16}"
      ]
     },
     "execution_count": 20,
     "metadata": {},
     "output_type": "execute_result"
    }
   ],
   "source": [
    "{k:v**2 for k,v in d.items()}"
   ]
  },
  {
   "cell_type": "code",
   "execution_count": 22,
   "id": "b3e7fe65",
   "metadata": {},
   "outputs": [
    {
     "data": {
      "text/plain": [
       "{'key1': 1, 'key2': 2, 'key3': 3, 'key4': 4}"
      ]
     },
     "execution_count": 22,
     "metadata": {},
     "output_type": "execute_result"
    }
   ],
   "source": [
    "d"
   ]
  },
  {
   "cell_type": "markdown",
   "id": "686013c1",
   "metadata": {},
   "source": [
    "q.find all values greater than 1"
   ]
  },
  {
   "cell_type": "code",
   "execution_count": 24,
   "id": "689b9b11",
   "metadata": {},
   "outputs": [
    {
     "data": {
      "text/plain": [
       "{'key2': 2, 'key3': 3, 'key4': 4}"
      ]
     },
     "execution_count": 24,
     "metadata": {},
     "output_type": "execute_result"
    }
   ],
   "source": [
    "{k:v for k,v in d.items() if v>1}"
   ]
  },
  {
   "cell_type": "code",
   "execution_count": null,
   "id": "665ba00b",
   "metadata": {},
   "outputs": [],
   "source": []
  }
 ],
 "metadata": {
  "kernelspec": {
   "display_name": "Python 3 (ipykernel)",
   "language": "python",
   "name": "python3"
  },
  "language_info": {
   "codemirror_mode": {
    "name": "ipython",
    "version": 3
   },
   "file_extension": ".py",
   "mimetype": "text/x-python",
   "name": "python",
   "nbconvert_exporter": "python",
   "pygments_lexer": "ipython3",
   "version": "3.9.13"
  }
 },
 "nbformat": 4,
 "nbformat_minor": 5
}
