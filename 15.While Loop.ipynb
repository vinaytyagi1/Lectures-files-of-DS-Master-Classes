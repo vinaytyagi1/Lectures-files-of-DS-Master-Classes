{
 "cells": [
  {
   "cell_type": "code",
   "execution_count": 1,
   "id": "34a7fd30",
   "metadata": {},
   "outputs": [
    {
     "name": "stdout",
     "output_type": "stream",
     "text": [
      "1\n",
      "2\n",
      "3\n",
      "4\n",
      "5\n",
      "6\n",
      "7\n",
      "8\n",
      "9\n",
      "10\n"
     ]
    }
   ],
   "source": [
    "a= 1 \n",
    "\n",
    "while a <= 10 :  \n",
    "    print(a)\n",
    "    a = a +1"
   ]
  },
  {
   "cell_type": "markdown",
   "id": "78a7ea97",
   "metadata": {},
   "source": [
    "Here loop is executed only when loop condition is satisfied"
   ]
  },
  {
   "cell_type": "markdown",
   "id": "2f6f6e6c",
   "metadata": {},
   "source": [
    "#sum up the number till some point"
   ]
  },
  {
   "cell_type": "code",
   "execution_count": 7,
   "id": "c6517381",
   "metadata": {},
   "outputs": [
    {
     "name": "stdout",
     "output_type": "stream",
     "text": [
      "give your number:5\n",
      "0\n",
      "1\n",
      "2\n",
      "3\n",
      "4\n",
      "5\n",
      "15\n"
     ]
    }
   ],
   "source": [
    "n=int(input(\"give your number:\"))\n",
    "i=0\n",
    "s=0\n",
    "while i<= n:\n",
    "    s=i+s\n",
    "    i=i+1\n",
    "    print(i-1)\n",
    "print(s)\n",
    "    "
   ]
  },
  {
   "cell_type": "markdown",
   "id": "b80a1063",
   "metadata": {},
   "source": [
    "q. find factorial"
   ]
  },
  {
   "cell_type": "code",
   "execution_count": 15,
   "id": "36f9de46",
   "metadata": {},
   "outputs": [
    {
     "ename": "KeyboardInterrupt",
     "evalue": "Interrupted by user",
     "output_type": "error",
     "traceback": [
      "\u001b[1;31m---------------------------------------------------------------------------\u001b[0m",
      "\u001b[1;31mKeyboardInterrupt\u001b[0m                         Traceback (most recent call last)",
      "\u001b[1;32m~\\AppData\\Local\\Temp\\ipykernel_8176\\3818955163.py\u001b[0m in \u001b[0;36m<module>\u001b[1;34m\u001b[0m\n\u001b[1;32m----> 1\u001b[1;33m \u001b[0mnumber\u001b[0m \u001b[1;33m=\u001b[0m \u001b[0mint\u001b[0m\u001b[1;33m(\u001b[0m\u001b[0minput\u001b[0m\u001b[1;33m(\u001b[0m\u001b[1;34m\"enter your number\"\u001b[0m\u001b[1;33m)\u001b[0m\u001b[1;33m)\u001b[0m\u001b[1;33m\u001b[0m\u001b[1;33m\u001b[0m\u001b[0m\n\u001b[0m\u001b[0;32m      2\u001b[0m \u001b[0mfactorial\u001b[0m \u001b[1;33m=\u001b[0m \u001b[1;36m1\u001b[0m\u001b[1;33m\u001b[0m\u001b[1;33m\u001b[0m\u001b[0m\n\u001b[0;32m      3\u001b[0m \u001b[1;32mwhile\u001b[0m \u001b[0mnumber\u001b[0m \u001b[1;33m>\u001b[0m \u001b[1;36m0\u001b[0m \u001b[1;33m:\u001b[0m\u001b[1;33m\u001b[0m\u001b[1;33m\u001b[0m\u001b[0m\n\u001b[0;32m      4\u001b[0m     \u001b[0mfactorial\u001b[0m \u001b[1;33m=\u001b[0m \u001b[0mfactorial\u001b[0m\u001b[1;33m*\u001b[0m\u001b[0mnumber\u001b[0m\u001b[1;33m\u001b[0m\u001b[1;33m\u001b[0m\u001b[0m\n\u001b[0;32m      5\u001b[0m     \u001b[0mprint\u001b[0m\u001b[1;33m(\u001b[0m\u001b[0mnumber\u001b[0m\u001b[1;33m)\u001b[0m\u001b[1;33m\u001b[0m\u001b[1;33m\u001b[0m\u001b[0m\n",
      "\u001b[1;32mC:\\ProgramData\\Anaconda3\\lib\\site-packages\\ipykernel\\kernelbase.py\u001b[0m in \u001b[0;36mraw_input\u001b[1;34m(self, prompt)\u001b[0m\n\u001b[0;32m   1175\u001b[0m                 \u001b[1;34m\"raw_input was called, but this frontend does not support input requests.\"\u001b[0m\u001b[1;33m\u001b[0m\u001b[1;33m\u001b[0m\u001b[0m\n\u001b[0;32m   1176\u001b[0m             )\n\u001b[1;32m-> 1177\u001b[1;33m         return self._input_request(\n\u001b[0m\u001b[0;32m   1178\u001b[0m             \u001b[0mstr\u001b[0m\u001b[1;33m(\u001b[0m\u001b[0mprompt\u001b[0m\u001b[1;33m)\u001b[0m\u001b[1;33m,\u001b[0m\u001b[1;33m\u001b[0m\u001b[1;33m\u001b[0m\u001b[0m\n\u001b[0;32m   1179\u001b[0m             \u001b[0mself\u001b[0m\u001b[1;33m.\u001b[0m\u001b[0m_parent_ident\u001b[0m\u001b[1;33m[\u001b[0m\u001b[1;34m\"shell\"\u001b[0m\u001b[1;33m]\u001b[0m\u001b[1;33m,\u001b[0m\u001b[1;33m\u001b[0m\u001b[1;33m\u001b[0m\u001b[0m\n",
      "\u001b[1;32mC:\\ProgramData\\Anaconda3\\lib\\site-packages\\ipykernel\\kernelbase.py\u001b[0m in \u001b[0;36m_input_request\u001b[1;34m(self, prompt, ident, parent, password)\u001b[0m\n\u001b[0;32m   1217\u001b[0m             \u001b[1;32mexcept\u001b[0m \u001b[0mKeyboardInterrupt\u001b[0m\u001b[1;33m:\u001b[0m\u001b[1;33m\u001b[0m\u001b[1;33m\u001b[0m\u001b[0m\n\u001b[0;32m   1218\u001b[0m                 \u001b[1;31m# re-raise KeyboardInterrupt, to truncate traceback\u001b[0m\u001b[1;33m\u001b[0m\u001b[1;33m\u001b[0m\u001b[0m\n\u001b[1;32m-> 1219\u001b[1;33m                 \u001b[1;32mraise\u001b[0m \u001b[0mKeyboardInterrupt\u001b[0m\u001b[1;33m(\u001b[0m\u001b[1;34m\"Interrupted by user\"\u001b[0m\u001b[1;33m)\u001b[0m \u001b[1;32mfrom\u001b[0m \u001b[1;32mNone\u001b[0m\u001b[1;33m\u001b[0m\u001b[1;33m\u001b[0m\u001b[0m\n\u001b[0m\u001b[0;32m   1220\u001b[0m             \u001b[1;32mexcept\u001b[0m \u001b[0mException\u001b[0m\u001b[1;33m:\u001b[0m\u001b[1;33m\u001b[0m\u001b[1;33m\u001b[0m\u001b[0m\n\u001b[0;32m   1221\u001b[0m                 \u001b[0mself\u001b[0m\u001b[1;33m.\u001b[0m\u001b[0mlog\u001b[0m\u001b[1;33m.\u001b[0m\u001b[0mwarning\u001b[0m\u001b[1;33m(\u001b[0m\u001b[1;34m\"Invalid Message:\"\u001b[0m\u001b[1;33m,\u001b[0m \u001b[0mexc_info\u001b[0m\u001b[1;33m=\u001b[0m\u001b[1;32mTrue\u001b[0m\u001b[1;33m)\u001b[0m\u001b[1;33m\u001b[0m\u001b[1;33m\u001b[0m\u001b[0m\n",
      "\u001b[1;31mKeyboardInterrupt\u001b[0m: Interrupted by user"
     ]
    }
   ],
   "source": [
    "\n",
    "\n",
    "number = int(input(\"enter your number\"))\n",
    "factorial = 1 \n",
    "while number > 0 :\n",
    "    factorial = factorial*number\n",
    "    print(number)\n",
    "    number = number-1\n",
    "    \n",
    "factorial"
   ]
  },
  {
   "cell_type": "code",
   "execution_count": 14,
   "id": "aed1f5cf",
   "metadata": {},
   "outputs": [],
   "source": [
    "#Finonacci series"
   ]
  },
  {
   "cell_type": "code",
   "execution_count": 17,
   "id": "e24eca1e",
   "metadata": {},
   "outputs": [
    {
     "name": "stdout",
     "output_type": "stream",
     "text": [
      "enter the number of element you are looking for 10\n",
      "0\n",
      "1\n",
      "1\n",
      "2\n",
      "3\n",
      "5\n",
      "8\n",
      "13\n",
      "21\n",
      "34\n"
     ]
    }
   ],
   "source": [
    "number = int(input(\"enter the number of element you are looking for \"))\n",
    "a , b  = 0 , 1 \n",
    "counter = 0 \n",
    "while counter < number : \n",
    "    print(a)\n",
    "    c = a+ b\n",
    "    a = b \n",
    "    b = c \n",
    "    counter= counter+ 1\n",
    "    \n"
   ]
  },
  {
   "cell_type": "markdown",
   "id": "b3fff0de",
   "metadata": {},
   "source": [
    "check here counter is less than number because counter starts from zero"
   ]
  },
  {
   "cell_type": "markdown",
   "id": "be82e1fc",
   "metadata": {},
   "source": [
    "do by for loop"
   ]
  },
  {
   "cell_type": "code",
   "execution_count": 19,
   "id": "fc5b251c",
   "metadata": {},
   "outputs": [
    {
     "name": "stdout",
     "output_type": "stream",
     "text": [
      "some number for range20\n",
      "0\n",
      "1\n",
      "1\n",
      "2\n",
      "3\n",
      "5\n",
      "8\n",
      "13\n",
      "21\n",
      "34\n",
      "55\n",
      "89\n",
      "144\n",
      "233\n",
      "377\n",
      "610\n",
      "987\n",
      "1597\n",
      "2584\n",
      "4181\n"
     ]
    }
   ],
   "source": [
    "n=int(input(\"some number for range\"))\n",
    "a , b  = 0 , 1 \n",
    "\n",
    "for i in range(n) : \n",
    "    print(a)\n",
    "    c = a+ b\n",
    "    a = b \n",
    "    b = c "
   ]
  },
  {
   "cell_type": "markdown",
   "id": "70f14633",
   "metadata": {},
   "source": [
    "q. reverse a given string"
   ]
  },
  {
   "cell_type": "code",
   "execution_count": 20,
   "id": "f916e999",
   "metadata": {},
   "outputs": [
    {
     "name": "stdout",
     "output_type": "stream",
     "text": [
      "enter your string for reversalvinay\n",
      "yaniv\n"
     ]
    }
   ],
   "source": [
    "word = input(\"enter your string for reversal\")\n",
    "reverse = \"\"\n",
    "length = len(word)\n",
    "while length > 0 :\n",
    "    reverse = reverse + word[length -1]\n",
    "    length = length -1\n",
    "print(reverse)"
   ]
  },
  {
   "cell_type": "code",
   "execution_count": 21,
   "id": "d01fc507",
   "metadata": {},
   "outputs": [],
   "source": [
    "#print table of numbers "
   ]
  },
  {
   "cell_type": "code",
   "execution_count": 36,
   "id": "eb4e53cb",
   "metadata": {},
   "outputs": [
    {
     "name": "stdout",
     "output_type": "stream",
     "text": [
      "some number8\n",
      "8 * 0 = 0\n",
      "8 * 1 = 8\n",
      "8 * 2 = 16\n",
      "8 * 3 = 24\n",
      "8 * 4 = 32\n",
      "8 * 5 = 40\n",
      "8 * 6 = 48\n",
      "8 * 7 = 56\n",
      "8 * 8 = 64\n",
      "8 * 9 = 72\n",
      "8 * 10 = 80\n"
     ]
    }
   ],
   "source": [
    "n=int(input(\"some number\"))\n",
    "c=0\n",
    "while c < 11:\n",
    "    print(n,'*',c,'=',n*c)\n",
    "    c=c+1\n",
    "    \n"
   ]
  },
  {
   "cell_type": "markdown",
   "id": "4912b130",
   "metadata": {},
   "source": [
    "while can also be use with else in python"
   ]
  },
  {
   "cell_type": "code",
   "execution_count": 37,
   "id": "e73a9551",
   "metadata": {},
   "outputs": [
    {
     "name": "stdout",
     "output_type": "stream",
     "text": [
      "1\n",
      "2\n",
      "3\n",
      "4\n",
      "this will be executed once your while will complete it succesfully\n"
     ]
    }
   ],
   "source": [
    "n = 5 \n",
    "i = 1\n",
    "while i < n :\n",
    "    print(i)\n",
    "    i = i+ 1\n",
    "else :\n",
    "    print(\"this will be executed once your while will complete it succesfully\")\n",
    "    "
   ]
  },
  {
   "cell_type": "code",
   "execution_count": 38,
   "id": "94b02ee3",
   "metadata": {},
   "outputs": [
    {
     "name": "stdout",
     "output_type": "stream",
     "text": [
      "1\n",
      "2\n",
      "3\n"
     ]
    }
   ],
   "source": [
    "n = 5 \n",
    "i = 1\n",
    "while i < n :\n",
    "    print(i)\n",
    "    if i == 3 :\n",
    "        break\n",
    "    i = i+ 1\n",
    "else :\n",
    "    print(\"this will be executed once your while will complete it succesfully\")"
   ]
  },
  {
   "cell_type": "markdown",
   "id": "f6861035",
   "metadata": {},
   "source": [
    "else will be executed only when while is completed"
   ]
  }
 ],
 "metadata": {
  "kernelspec": {
   "display_name": "Python 3 (ipykernel)",
   "language": "python",
   "name": "python3"
  },
  "language_info": {
   "codemirror_mode": {
    "name": "ipython",
    "version": 3
   },
   "file_extension": ".py",
   "mimetype": "text/x-python",
   "name": "python",
   "nbconvert_exporter": "python",
   "pygments_lexer": "ipython3",
   "version": "3.9.13"
  }
 },
 "nbformat": 4,
 "nbformat_minor": 5
}
