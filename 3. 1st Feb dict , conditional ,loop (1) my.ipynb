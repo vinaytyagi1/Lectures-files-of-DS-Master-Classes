{
 "cells": [
  {
   "cell_type": "code",
   "execution_count": 1,
   "id": "a305563e",
   "metadata": {},
   "outputs": [],
   "source": [
    "d={}"
   ]
  },
  {
   "cell_type": "code",
   "execution_count": 3,
   "id": "7aa92d9e",
   "metadata": {},
   "outputs": [
    {
     "data": {
      "text/plain": [
       "dict"
      ]
     },
     "execution_count": 3,
     "metadata": {},
     "output_type": "execute_result"
    }
   ],
   "source": [
    "type(d)"
   ]
  },
  {
   "cell_type": "markdown",
   "id": "18489532",
   "metadata": {},
   "source": [
    "We will study dictionery. this has key and value pairs. key value should be unique."
   ]
  },
  {
   "cell_type": "code",
   "execution_count": 4,
   "id": "8fc4b9a1",
   "metadata": {},
   "outputs": [],
   "source": [
    "d1={'key':\"vinay\"}"
   ]
  },
  {
   "cell_type": "markdown",
   "id": "e399a8dc",
   "metadata": {},
   "source": [
    "this is like word meaning"
   ]
  },
  {
   "cell_type": "code",
   "execution_count": 5,
   "id": "f6802ad2",
   "metadata": {},
   "outputs": [
    {
     "data": {
      "text/plain": [
       "{'key': 'vinay'}"
      ]
     },
     "execution_count": 5,
     "metadata": {},
     "output_type": "execute_result"
    }
   ],
   "source": [
    "d1"
   ]
  },
  {
   "cell_type": "code",
   "execution_count": null,
   "id": "76de4e47",
   "metadata": {},
   "outputs": [],
   "source": []
  }
 ],
 "metadata": {
  "kernelspec": {
   "display_name": "Python 3 (ipykernel)",
   "language": "python",
   "name": "python3"
  },
  "language_info": {
   "codemirror_mode": {
    "name": "ipython",
    "version": 3
   },
   "file_extension": ".py",
   "mimetype": "text/x-python",
   "name": "python",
   "nbconvert_exporter": "python",
   "pygments_lexer": "ipython3",
   "version": "3.9.13"
  }
 },
 "nbformat": 4,
 "nbformat_minor": 5
}
